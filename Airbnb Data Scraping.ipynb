{
  "nbformat": 4,
  "nbformat_minor": 0,
  "metadata": {
    "kernelspec": {
      "display_name": "Python 3",
      "language": "python",
      "name": "python3"
    },
    "language_info": {
      "codemirror_mode": {
        "name": "ipython",
        "version": 3
      },
      "file_extension": ".py",
      "mimetype": "text/x-python",
      "name": "python",
      "nbconvert_exporter": "python",
      "pygments_lexer": "ipython3",
      "version": "3.6.12"
    },
    "colab": {
      "name": "FredericoFigueiredo_Assignment 2_CC.ipynb",
      "provenance": []
    }
  },
  "cells": [
    {
      "cell_type": "markdown",
      "metadata": {
        "deletable": false,
        "editable": false,
        "nbgrader": {
          "cell_type": "markdown",
          "checksum": "90bc2a10f37790d1364001ef0401ed45",
          "grade": false,
          "grade_id": "cell-aad0d9693d861220",
          "locked": true,
          "schema_version": 3,
          "solution": false,
          "task": false
        },
        "id": "JbG3OtijQwjc"
      },
      "source": [
        "# Assignment 2\n",
        "\n",
        "This notebook contains a set of exercises that will guide you through the different steps of this assignment. The aim of this assignment is to create and save a dataset containing information about different listings in Airbnb. You will then use this dataset during the Artifical Intelligence I course to train a predictive model.\n",
        "\n",
        "<div class=\"alert alert-danger\"><b>Submission deadline:</b> Thursday, December 3, 20:00</div>\n",
        "\n",
        "### Instructions\n",
        "\n",
        "Read carefully the following instructions before starting the exercises.\n",
        "\n",
        "- This notebook is automatically graded. This means that there are several cells embedded into the notebook that take care of checking your code and grading it. It also means that it is important **to follow the instructions for each of the exercises** to make sure that you do everything right.\n",
        "\n",
        "- Write your code in the dedicated cells. You can use as many cells as you like. Just make sure to include all the necessary code **before the corresponding test**.\n",
        "\n",
        "- The tests for the introductory exercises will be open for you to see. This will help you understand how the pipeline works and check that you got the basics right. You can run these checks as many times as you want, **as long as you don't modify them**.  \n",
        "\n",
        "- The tests for the graded exercises will remain hidden. It is important that you **do not write any code, nor do you remove the cells left in blank** for this purpose. \n",
        "\n",
        "- Remember that tests look for specific variable and objects. This means that in order to receive the points for each exercise, you need to **create those objects**.\n",
        "\n",
        "Before moving on, please run the following cell. You only need run it once in order to install the ```nose``` library."
      ]
    },
    {
      "cell_type": "code",
      "metadata": {
        "colab": {
          "base_uri": "https://localhost:8080/"
        },
        "id": "cS-LnpTEQwjd",
        "outputId": "255bb8ce-e6e1-4446-de46-6d90e957cc70"
      },
      "source": [
        "pip install nose"
      ],
      "execution_count": null,
      "outputs": [
        {
          "output_type": "stream",
          "text": [
            "Requirement already satisfied: nose in /usr/local/lib/python3.6/dist-packages (1.3.7)\n"
          ],
          "name": "stdout"
        }
      ]
    },
    {
      "cell_type": "markdown",
      "metadata": {
        "deletable": false,
        "editable": false,
        "nbgrader": {
          "cell_type": "markdown",
          "checksum": "a720f1db42b69945f298ebc0fa7e5834",
          "grade": false,
          "grade_id": "cell-ad8333c5b878d609",
          "locked": true,
          "schema_version": 3,
          "solution": false,
          "task": false
        },
        "id": "XzL2SBx1Qwjd"
      },
      "source": [
        "## Getting started\n",
        "\n",
        "[Airbnb](https://www.airbnb.com/) allows people to rent out their properties on their online platform. Travelers can then book these properties for shorter or longer periods of time. The company was founded in August 2008 in San Francisco, California, and currently has an annual revenue stream of over 2.5 Billion US Dollars. In the US alone, the platform has 660,000 listings.\n",
        "\n",
        "![airbnb](https://www.dropbox.com/s/njll910mmpzm86z/airbnb.png?raw=1)\n",
        "\n",
        "Every individual listing contains a lot of information like the facilities offered, the location, information about the host and reviews. In this assignment you will build a web scrapper to extract information from these listings using Python.\n",
        "\n",
        "![bali](https://www.dropbox.com/s/5gnj4dsv1qmvji5/bali.png?raw=1)\n",
        "\n",
        "The fact that we are confined at home shouldn't prevent us from dreaming we could go somewhere else. So, let's take a look at the different listings available to spend 5 nights in Bali during these Christmas holidays, from December 29 until January 3. You can check the different options available by in the following [link](https://www.airbnb.com/s/Bali--Indonesia/homes?tab_id=home_tab&refinement_paths%5B%5D=%2Fhomes&query=Bali%2C%20Indonesia&place_id=ChIJoQ8Q6NNB0S0RkOYkS7EPkSQ&checkin=2020-12-29&checkout=2021-01-03&source=structured_search_input_header&search_type=autocomplete_click).\n",
        "\n",
        "The whole url has been copied for you below."
      ]
    },
    {
      "cell_type": "code",
      "metadata": {
        "id": "fT9eLmwUQwjd"
      },
      "source": [
        "url = \"https://www.airbnb.com/s/Bali--Indonesia/homes?tab_id=home_tab&refinement_paths%5B%5D=%2Fhomes&query=Bali%2C%20Indonesia&place_id=ChIJoQ8Q6NNB0S0RkOYkS7EPkSQ&checkin=2020-12-29&checkout=2021-01-03&source=structured_search_input_header&search_type=autocomplete_click\""
      ],
      "execution_count": null,
      "outputs": []
    },
    {
      "cell_type": "markdown",
      "metadata": {
        "deletable": false,
        "editable": false,
        "nbgrader": {
          "cell_type": "markdown",
          "checksum": "e7fda3da48b46144a20e8fa82487ad28",
          "grade": false,
          "grade_id": "cell-42289f056b768008",
          "locked": true,
          "schema_version": 3,
          "solution": false,
          "task": false
        },
        "id": "SW-G3o5bQwjd"
      },
      "source": [
        "Let's begin by making a request to retrieve the HTML code for this website. Since this is an action that you may need to perform several times throughout the assignment, let's encapsulate the corresponding code in a function.\n",
        "\n",
        "<div class=\"alert alert-info\"><b>Exercise 1 </b>Write the code to complete function <i>get_page</i>. This function should take a url as input and return its underlying HTML code as a <b>BeautifulSoup object</b> as output. The required libraries have already been imported for you.</div>"
      ]
    },
    {
      "cell_type": "code",
      "metadata": {
        "deletable": false,
        "nbgrader": {
          "cell_type": "code",
          "checksum": "9b6616f60edc376e1c4bdebe600ed70a",
          "grade": false,
          "grade_id": "cell-880bd6b449823798",
          "locked": false,
          "schema_version": 3,
          "solution": true,
          "task": false
        },
        "id": "whyocAZKQwjd"
      },
      "source": [
        "import requests\n",
        "import bs4\n",
        "\n",
        "def get_page(url):\n",
        "  return (bs4.BeautifulSoup(requests.get(url).text,'html.parser'))"
      ],
      "execution_count": null,
      "outputs": []
    },
    {
      "cell_type": "markdown",
      "metadata": {
        "deletable": false,
        "editable": false,
        "nbgrader": {
          "cell_type": "markdown",
          "checksum": "9f8d77b45d9deb7f3bc14e5b6576fdab",
          "grade": false,
          "grade_id": "cell-c4fc30e88ca85392",
          "locked": true,
          "schema_version": 3,
          "solution": false,
          "task": false
        },
        "id": "L9nRjOoQQwjd"
      },
      "source": [
        "The following cell runs additional checks to your code. Please **don't write any code here**. Just leave it as it is."
      ]
    },
    {
      "cell_type": "code",
      "metadata": {
        "deletable": false,
        "editable": false,
        "nbgrader": {
          "cell_type": "code",
          "checksum": "a4620c9edf2990f66a0852e4596f8bc6",
          "grade": true,
          "grade_id": "cell-3756e90208867335",
          "locked": true,
          "points": 0.25,
          "schema_version": 3,
          "solution": false,
          "task": false
        },
        "id": "LgS7NFb9Qwjd"
      },
      "source": [
        "# LEAVE BLANK"
      ],
      "execution_count": null,
      "outputs": []
    },
    {
      "cell_type": "markdown",
      "metadata": {
        "deletable": false,
        "editable": false,
        "nbgrader": {
          "cell_type": "markdown",
          "checksum": "6ee7667710801b60683fecc207b3a1c0",
          "grade": false,
          "grade_id": "cell-d417065f24be3822",
          "locked": true,
          "schema_version": 3,
          "solution": false,
          "task": false
        },
        "id": "8AOZLhwYQwjd"
      },
      "source": [
        "As you well know, the first step in trying to extract information from a webpage is to check how it is constructed. A brief look at the given webpage shows that the information on the different listings is shown underneath each other in a list form. \n",
        "\n",
        "<img src=\"https://www.dropbox.com/s/jl436b6cc1daent/bali_listing.png?raw=1\" width=\"700\">\n",
        "\n",
        "For every listing a preview image is shown together with some standard information, including a title, a subtitle, the number of guests allowed, the number of bedrooms and bathrooms, the number of beds, information about certain ammenities, the price per night, the total price per stay, the average rating and the number of reviews.\n",
        "\n",
        "<div class=\"alert alert-warning\">For the example shown above, the title would be \"BALIAN TREEHOUSE w beautiful pool\", while the subtitle corresponds to \"Hut in Balian Beach, Bali\".</div>\n",
        "\n",
        "Let's write the code to retrieve these data for each separate listing, let's first identify the separate pieces of code that contain the information for the different results.\n",
        "\n",
        "<div class=\"alert alert-info\"><b>Exercise 2 </b>Write the code to complete function <i>get_listings</i>. This function should take a BeautifulSoup object containing the code for a whole webpage as input and return a <b>list</b> of the individual pieces of code for each listing. Among the different options, select the larger pieces of code that contain a single listing.</div>"
      ]
    },
    {
      "cell_type": "code",
      "metadata": {
        "deletable": false,
        "nbgrader": {
          "cell_type": "code",
          "checksum": "dfdabc2bc15d17076b70a19dabccd9e2",
          "grade": false,
          "grade_id": "cell-e6a05939e4a60230",
          "locked": false,
          "schema_version": 3,
          "solution": true,
          "task": false
        },
        "id": "6UfLsWRTQwjd"
      },
      "source": [
        "def get_listings(soup):\n",
        "  return list(soup.find_all('div',{'class': '_8ssblpx'}))"
      ],
      "execution_count": null,
      "outputs": []
    },
    {
      "cell_type": "markdown",
      "metadata": {
        "deletable": false,
        "editable": false,
        "nbgrader": {
          "cell_type": "markdown",
          "checksum": "c1775b8745f8d916797798ff26cf2818",
          "grade": false,
          "grade_id": "cell-2819b31a4a01cc6b",
          "locked": true,
          "schema_version": 3,
          "solution": false,
          "task": false
        },
        "id": "MOmo00h0Qwjd"
      },
      "source": [
        "The following cell runs additional checks to your code. Please **don't write any code here**. Just leave it as it is."
      ]
    },
    {
      "cell_type": "code",
      "metadata": {
        "deletable": false,
        "editable": false,
        "nbgrader": {
          "cell_type": "code",
          "checksum": "1996fada8e838cb2dc6b123f5e407f2a",
          "grade": true,
          "grade_id": "cell-4b33d651bee3f077",
          "locked": true,
          "points": 0.5,
          "schema_version": 3,
          "solution": false,
          "task": false
        },
        "id": "RANh0T-2Qwjd"
      },
      "source": [
        "# LEAVE BLANK"
      ],
      "execution_count": null,
      "outputs": []
    },
    {
      "cell_type": "markdown",
      "metadata": {
        "deletable": false,
        "editable": false,
        "nbgrader": {
          "cell_type": "markdown",
          "checksum": "98bc520139204aa779166e593cafdbf8",
          "grade": false,
          "grade_id": "cell-847592f1ed1f91e0",
          "locked": true,
          "schema_version": 3,
          "solution": false,
          "task": false
        },
        "id": "TPCVe9JlQwjd"
      },
      "source": [
        "## Retrieving the data\n",
        "\n",
        "Now that you wrote the function to retrieve the code for all the separate listings, let's retrieve separate information for each of them.\n",
        "\n",
        "<div class=\"alert alert-info\"><b>Exercise 3 </b>Write the code to complete function <i>get_listing_title</i>. This function should take a soup object containing the code for an individual listing as input and return a <b>string </b>with its title as output. If no title is listed, then the function should return a <i>None</i> in boolean form.</div>"
      ]
    },
    {
      "cell_type": "code",
      "metadata": {
        "deletable": false,
        "nbgrader": {
          "cell_type": "code",
          "checksum": "d6a924bbd8f1e5371c49bb122ec53842",
          "grade": false,
          "grade_id": "cell-e8f86186ea01c58b",
          "locked": false,
          "schema_version": 3,
          "solution": true,
          "task": false
        },
        "id": "OP5Zm06IQwjd"
      },
      "source": [
        "def get_listing_title(listing):\n",
        "  if listing.find('div',{'class': '_bzh5lkq'}) is None:\n",
        "    return bool(None)\n",
        "  else:\n",
        "    return listing.find('div',{'class': '_bzh5lkq'}).text\n",
        "    # YOUR CODE HERE"
      ],
      "execution_count": null,
      "outputs": []
    },
    {
      "cell_type": "markdown",
      "metadata": {
        "deletable": false,
        "editable": false,
        "nbgrader": {
          "cell_type": "markdown",
          "checksum": "371cb767361e96d177d3c6aa43b07b8e",
          "grade": false,
          "grade_id": "cell-ad7819fd2d105e26",
          "locked": true,
          "schema_version": 3,
          "solution": false,
          "task": false
        },
        "id": "lkrEBSmTQwjd"
      },
      "source": [
        "The following cell runs additional checks to your code. Please **don't write any code here**. Just leave it as it is."
      ]
    },
    {
      "cell_type": "code",
      "metadata": {
        "deletable": false,
        "editable": false,
        "nbgrader": {
          "cell_type": "code",
          "checksum": "60521153e577a891ce1a72a0addf9fc7",
          "grade": true,
          "grade_id": "cell-45c2a243fd718e24",
          "locked": true,
          "points": 0.5,
          "schema_version": 3,
          "solution": false,
          "task": false
        },
        "id": "VKf4wkTrQwjd"
      },
      "source": [
        "# LEAVE BLANK"
      ],
      "execution_count": null,
      "outputs": []
    },
    {
      "cell_type": "markdown",
      "metadata": {
        "deletable": false,
        "editable": false,
        "nbgrader": {
          "cell_type": "markdown",
          "checksum": "ca8bbf85e2a335672366df51874ac125",
          "grade": false,
          "grade_id": "cell-4002dcc653300291",
          "locked": true,
          "schema_version": 3,
          "solution": false,
          "task": false
        },
        "id": "bdbxdum6Qwjd"
      },
      "source": [
        "<div class=\"alert alert-info\"><b>Exercise 4 </b>Write the code to complete function <i>get_listing_subtitle</i>. This function should take a soup object containing the code for an individual listing as input and return a <b>string</b> with its subtitle as output. If no subtitle is listed, then the function should return a <i>None</i> in boolean form.</div>"
      ]
    },
    {
      "cell_type": "code",
      "metadata": {
        "deletable": false,
        "nbgrader": {
          "cell_type": "code",
          "checksum": "f4eb153cbd870c227c9c3ab7091d1c8d",
          "grade": false,
          "grade_id": "cell-1689d7e4d996b9f4",
          "locked": false,
          "schema_version": 3,
          "solution": true,
          "task": false
        },
        "id": "XzDEGnVJQwjd"
      },
      "source": [
        "def get_listing_subtitle(listing):\n",
        "  if listing.find('div',{'class': '_167qordg'}) is None:\n",
        "    return bool(None)\n",
        "  else:\n",
        "    return listing.find('div',{'class': '_167qordg'}).text\n",
        "    # YOUR CODE HERE"
      ],
      "execution_count": null,
      "outputs": []
    },
    {
      "cell_type": "markdown",
      "metadata": {
        "deletable": false,
        "editable": false,
        "nbgrader": {
          "cell_type": "markdown",
          "checksum": "43692e2e24ab9dd35e79ae0f26396f12",
          "grade": false,
          "grade_id": "cell-ad781fd2d105e26",
          "locked": true,
          "schema_version": 3,
          "solution": false,
          "task": false
        },
        "id": "kvt0AjZtQwjd"
      },
      "source": [
        "The following cell runs additional checks to your code. Please **don't write any code here**. Just leave it as it is."
      ]
    },
    {
      "cell_type": "code",
      "metadata": {
        "deletable": false,
        "editable": false,
        "nbgrader": {
          "cell_type": "code",
          "checksum": "1929fa4f160cfcfc245346f5db7b1d70",
          "grade": true,
          "grade_id": "cell-45c2a243fd78e24",
          "locked": true,
          "points": 0.5,
          "schema_version": 3,
          "solution": false,
          "task": false
        },
        "id": "Sa2BzPsPQwjd"
      },
      "source": [
        "# LEAVE BLANK"
      ],
      "execution_count": null,
      "outputs": []
    },
    {
      "cell_type": "markdown",
      "metadata": {
        "deletable": false,
        "editable": false,
        "nbgrader": {
          "cell_type": "markdown",
          "checksum": "9c3cbab44bbf0d8714ce2904ea6487fb",
          "grade": false,
          "grade_id": "cell-b0d42d4b36c13526",
          "locked": true,
          "schema_version": 3,
          "solution": false,
          "task": false
        },
        "id": "29fsIYMwQwjd"
      },
      "source": [
        "Right below each listing's title there's a list of attribute that contains information about the number of guests allowed, the number of bedrooms, the number of beds and the number bathrooms. Let's create a new function that retrieves this information for each separate listing. \n",
        "\n",
        "<div class=\"alert alert-info\"><b>Exercise 5 </b>Write the code to complete function <i>get_listing_info</i>. This function should take a soup object containing the code for an individual listing as input and return a <b>string</b> with the general listing information as output. If no information is provided, then the function should return a <i>None</i> in boolean form.</div>\n",
        "\n",
        "<div class=\"alert alert-warning\">For the example shown above, the function get_listing_info should return a string \"2 guests · 1 bedroom · 1 bed · 1.5 baths\".</div>"
      ]
    },
    {
      "cell_type": "code",
      "metadata": {
        "deletable": false,
        "nbgrader": {
          "cell_type": "code",
          "checksum": "124cd05cdb9a68534313ec36b125af00",
          "grade": false,
          "grade_id": "cell-8cd48dced81c6a67",
          "locked": false,
          "schema_version": 3,
          "solution": true,
          "task": false
        },
        "id": "Bb1N8TodQwjd"
      },
      "source": [
        "def get_listing_info(listing):\n",
        "  if listing.find_all('div',{'class': '_kqh46o'})[0] is None:\n",
        "    return bool(None)\n",
        "  else:\n",
        "    return listing.find_all('div',{'class': '_kqh46o'})[0].text  \n",
        "\n",
        "    # YOUR CODE HERE"
      ],
      "execution_count": null,
      "outputs": []
    },
    {
      "cell_type": "markdown",
      "metadata": {
        "deletable": false,
        "editable": false,
        "nbgrader": {
          "cell_type": "markdown",
          "checksum": "716a512d8d81f236b122f13fa97957ca",
          "grade": false,
          "grade_id": "cell-6ceb170594b64bcc",
          "locked": true,
          "schema_version": 3,
          "solution": false,
          "task": false
        },
        "id": "v94O1dpiQwjd"
      },
      "source": [
        "The following cell runs additional checks to your code. Please **don't write any code here**. Just leave it as it is."
      ]
    },
    {
      "cell_type": "code",
      "metadata": {
        "deletable": false,
        "editable": false,
        "nbgrader": {
          "cell_type": "code",
          "checksum": "6bc74cc7fa4f31aa56b6a01adec24b18",
          "grade": true,
          "grade_id": "cell-e8a436310f15ed08",
          "locked": true,
          "points": 0.5,
          "schema_version": 3,
          "solution": false,
          "task": false
        },
        "id": "mV2YWyaZQwjd"
      },
      "source": [
        "# LEAVE BLANK"
      ],
      "execution_count": null,
      "outputs": []
    },
    {
      "cell_type": "markdown",
      "metadata": {
        "deletable": false,
        "editable": false,
        "nbgrader": {
          "cell_type": "markdown",
          "checksum": "2e400f9325f82a33878226e0ef45ff07",
          "grade": false,
          "grade_id": "cell-d4b9f8970c8c331f",
          "locked": true,
          "schema_version": 3,
          "solution": false,
          "task": false
        },
        "id": "RaBFYYDVQwjd"
      },
      "source": [
        "Below that information list, there is yet another list that contains information about different ammenities.\n",
        "\n",
        "<div class=\"alert alert-info\"><b>Exercise 6 </b>Write the code to complete function <i>get_listing_ammenities</i>. This function should take a soup object containing the code for an individual listing as input and return a <b>string</b> with the listing ammenities information as output. If no information is provided, then the function should return a <i>None</i> in boolean form.</div>\n",
        "\n",
        "<div class=\"alert alert-warning\">For the example shown above, the function get_listing_ammenities should return a string \"Pool · Wifi · Air conditioning · Kitchen\".</div>"
      ]
    },
    {
      "cell_type": "code",
      "metadata": {
        "deletable": false,
        "nbgrader": {
          "cell_type": "code",
          "checksum": "54a80d468b1add34315cc6b7feeb53fb",
          "grade": false,
          "grade_id": "cell-2e7e3371291fdb72",
          "locked": false,
          "schema_version": 3,
          "solution": true,
          "task": false
        },
        "id": "By1hX9SbQwjd"
      },
      "source": [
        "def get_listing_ammenities(listing):\n",
        "  if len(listing.find_all('div',{'class': '_kqh46o'})) < 2:\n",
        "    return bool(None)\n",
        "  else:\n",
        "    return listing.find_all('div',{'class': '_kqh46o'})[1].text\n",
        "    # YOUR CODE HERE"
      ],
      "execution_count": null,
      "outputs": []
    },
    {
      "cell_type": "markdown",
      "metadata": {
        "deletable": false,
        "editable": false,
        "nbgrader": {
          "cell_type": "markdown",
          "checksum": "79cea87db3731fcd271e77bfd8415290",
          "grade": false,
          "grade_id": "cell-f2ae61060678b8a1",
          "locked": true,
          "schema_version": 3,
          "solution": false,
          "task": false
        },
        "id": "HtO69f5oQwjd"
      },
      "source": [
        "The following cell runs additional checks to your code. Please **don't write any code here**. Just leave it as it is."
      ]
    },
    {
      "cell_type": "code",
      "metadata": {
        "deletable": false,
        "editable": false,
        "nbgrader": {
          "cell_type": "code",
          "checksum": "df460d5ce01b1e1f50398c9519f0efa4",
          "grade": true,
          "grade_id": "cell-bf2c12476bb13d0d",
          "locked": true,
          "points": 0.5,
          "schema_version": 3,
          "solution": false,
          "task": false
        },
        "id": "ef_AgtjmQwjd"
      },
      "source": [
        "# LEAVE BLANK"
      ],
      "execution_count": null,
      "outputs": []
    },
    {
      "cell_type": "markdown",
      "metadata": {
        "id": "0TB1MjkCQwjd"
      },
      "source": [
        "<div class=\"alert alert-info\"><b>Exercise 7 </b>Write the code to complete function <i>get_listing_rating</i>. This function should take a soup object containing the code for an individual listing as input and return a <b>float</b> with its average rating as output. If no rating is listed, then the function should return a <i>None</i> in boolean form.</div>"
      ]
    },
    {
      "cell_type": "code",
      "metadata": {
        "deletable": false,
        "nbgrader": {
          "cell_type": "code",
          "checksum": "250492ea91d69c1e4f152600a210762d",
          "grade": false,
          "grade_id": "cell-f2bc50624dbb40ce",
          "locked": false,
          "schema_version": 3,
          "solution": true,
          "task": false
        },
        "id": "K6q76okmQwjd"
      },
      "source": [
        "def get_listing_rating(listing):\n",
        "  if listing.find('span',{'class': '_10fy1f8'}) is None:\n",
        "    return bool(None)\n",
        "  else:\n",
        "    return float(listing.find('span',{'class': '_10fy1f8'}).text)\n",
        "    # YOUR CODE HERE"
      ],
      "execution_count": null,
      "outputs": []
    },
    {
      "cell_type": "markdown",
      "metadata": {
        "deletable": false,
        "editable": false,
        "nbgrader": {
          "cell_type": "markdown",
          "checksum": "be7394478cbe13a89c599643b7850051",
          "grade": false,
          "grade_id": "cell-ad781fd2d10e26",
          "locked": true,
          "schema_version": 3,
          "solution": false,
          "task": false
        },
        "id": "nv64Q9rIQwje"
      },
      "source": [
        "The following cell runs additional checks to your code. Please **don't write any code here**. Just leave it as it is."
      ]
    },
    {
      "cell_type": "code",
      "metadata": {
        "deletable": false,
        "editable": false,
        "nbgrader": {
          "cell_type": "code",
          "checksum": "2464f518fcb8e29342aa0ce78cb2b2bf",
          "grade": true,
          "grade_id": "cell-4c2a243fd78e24",
          "locked": true,
          "points": 0.75,
          "schema_version": 3,
          "solution": false,
          "task": false
        },
        "id": "E_du92X0Qwje"
      },
      "source": [
        "# LEAVE BLANK"
      ],
      "execution_count": null,
      "outputs": []
    },
    {
      "cell_type": "markdown",
      "metadata": {
        "id": "XS5X-0QPQwje"
      },
      "source": [
        "<div class=\"alert alert-info\"><b>Exercise 8 </b>Write the code to complete function <i>get_listing_reviews</i>. This function should take a soup object containing the code for an individual listing as input and return an <b>int</b> with its number of reviews as output. If no reviews are included, then the function should return a <i>None</i> in boolean form.</div>"
      ]
    },
    {
      "cell_type": "code",
      "metadata": {
        "deletable": false,
        "nbgrader": {
          "cell_type": "code",
          "checksum": "ff5ea4ba19f3c9c0664f957914ef6df4",
          "grade": false,
          "grade_id": "cell-83a938a9399a8a44",
          "locked": false,
          "schema_version": 3,
          "solution": true,
          "task": false
        },
        "id": "rS-XQg7GQwje"
      },
      "source": [
        "def get_listing_reviews(listing):\n",
        "  if 'reviews' in str(listing.find_all('span',{'class': '_krjbj'})[0]):\n",
        "    return int(listing.find_all('span',{'class': '_krjbj'})[0].text[:-8])\n",
        "  elif 'reviews' in str(listing.find_all('span',{'class': '_krjbj'})[1]):\n",
        "    return int(listing.find_all('span',{'class': '_krjbj'})[1].text[:-8])               #[:-8]\n",
        "  else:\n",
        "    return bool(None) \n",
        "    # YOUR CODE HERE"
      ],
      "execution_count": null,
      "outputs": []
    },
    {
      "cell_type": "markdown",
      "metadata": {
        "deletable": false,
        "editable": false,
        "nbgrader": {
          "cell_type": "markdown",
          "checksum": "dfce2acb241282a1617cf9b81f098346",
          "grade": false,
          "grade_id": "cell-d781fd2d10e26",
          "locked": true,
          "schema_version": 3,
          "solution": false,
          "task": false
        },
        "id": "skvVerD3Qwje"
      },
      "source": [
        "The following cell runs additional checks to your code. Please **don't write any code here**. Just leave it as it is."
      ]
    },
    {
      "cell_type": "code",
      "metadata": {
        "deletable": false,
        "editable": false,
        "nbgrader": {
          "cell_type": "code",
          "checksum": "9488541045fb888aa3e9f20b8ad68c9f",
          "grade": true,
          "grade_id": "cell-42a243fd78e24",
          "locked": true,
          "points": 0.75,
          "schema_version": 3,
          "solution": false,
          "task": false
        },
        "id": "g_MubIz8Qwje"
      },
      "source": [
        "# LEAVE BLANK"
      ],
      "execution_count": null,
      "outputs": []
    },
    {
      "cell_type": "markdown",
      "metadata": {
        "deletable": false,
        "editable": false,
        "nbgrader": {
          "cell_type": "markdown",
          "checksum": "6b3d10c60c102172b9c76f43270e7240",
          "grade": false,
          "grade_id": "cell-bd598b09b5bbae98",
          "locked": true,
          "schema_version": 3,
          "solution": false,
          "task": false
        },
        "id": "_XIfO9d8Qwje"
      },
      "source": [
        "<div class=\"alert alert-info\"><b>Exercise 9 </b>Write the code to complete function <i>get_listing_price_per_night</i>. This function should take a soup object containing the code for an individual listing as input and return a <b>str</b> with its corresponding price per night. The string should only contain the actual number, nothing else. If no price is listed, then the function should return a <i>None</i> in boolean form.</div>"
      ]
    },
    {
      "cell_type": "code",
      "metadata": {
        "deletable": false,
        "nbgrader": {
          "cell_type": "code",
          "checksum": "725236bda6336822f272d472bb9c45dc",
          "grade": false,
          "grade_id": "cell-f86994d41ef89f05",
          "locked": false,
          "schema_version": 3,
          "solution": true,
          "task": false
        },
        "id": "4Suyb6gXQwje"
      },
      "source": [
        "def get_listing_price_per_night(listing):\n",
        "  try:\n",
        "    return str(listing.find('span',{'class': '_1p7iugi'}).text[listing.find('span',{'class': '_1p7iugi'}).text.index('Discounted price:')+18:])\n",
        "  except:\n",
        "    try:\n",
        "      return str(listing.find('span',{'class': '_1p7iugi'}).text[7:])\n",
        "    except:\n",
        "      return bool(None)\n",
        "\n",
        "    # YOUR CODE HERE"
      ],
      "execution_count": null,
      "outputs": []
    },
    {
      "cell_type": "markdown",
      "metadata": {
        "deletable": false,
        "editable": false,
        "nbgrader": {
          "cell_type": "markdown",
          "checksum": "2590d2390d4bfda86aca3bef3328ce5d",
          "grade": false,
          "grade_id": "cell-4be125725c82984f",
          "locked": true,
          "schema_version": 3,
          "solution": false,
          "task": false
        },
        "id": "8gUFsoO-Qwje"
      },
      "source": [
        "The following cell runs additional checks to your code. Please **don't write any code here**. Just leave it as it is."
      ]
    },
    {
      "cell_type": "code",
      "metadata": {
        "deletable": false,
        "editable": false,
        "nbgrader": {
          "cell_type": "code",
          "checksum": "7b261cbf3c4361a145cb7eaf67086786",
          "grade": true,
          "grade_id": "cell-53705be480bdba16",
          "locked": true,
          "points": 1.5,
          "schema_version": 3,
          "solution": false,
          "task": false
        },
        "id": "pm_6FRqEQwje"
      },
      "source": [
        "# LEAVE BLANK"
      ],
      "execution_count": null,
      "outputs": []
    },
    {
      "cell_type": "markdown",
      "metadata": {
        "deletable": false,
        "editable": false,
        "nbgrader": {
          "cell_type": "markdown",
          "checksum": "2ff2f0995c377277d430f82e2c3c049a",
          "grade": false,
          "grade_id": "cell-61dbba21276d1bb9",
          "locked": true,
          "schema_version": 3,
          "solution": false,
          "task": false
        },
        "id": "BmHJDTHfQwje"
      },
      "source": [
        "<div class=\"alert alert-info\"><b>Exercise 10 </b>Write the code to complete function <i>get_listing_total_price</i>. This function should take a soup object containing the code for an individual listing as input and return a <b>string</b> with its total price. This string should only contain the actual number, nothing else. If no total price is listed, then the function should return a <i>None</i> in boolean form.</div>"
      ]
    },
    {
      "cell_type": "code",
      "metadata": {
        "deletable": false,
        "nbgrader": {
          "cell_type": "code",
          "checksum": "7d751a81c4f4f2f05a5618268bf3f0c3",
          "grade": false,
          "grade_id": "cell-72f1e4512f7afe15",
          "locked": false,
          "schema_version": 3,
          "solution": true,
          "task": false
        },
        "id": "r73bXHgUQwje"
      },
      "source": [
        "def get_listing_total_price(listing):\n",
        "  if listing.find('button',{'class': '_ebe4pze'}) is None:\n",
        "    return bool(None)\n",
        "  else:\n",
        "    return str(listing.find('button',{'class': '_ebe4pze'}).text[1:-18])\n",
        "    # YOUR CODE HERE"
      ],
      "execution_count": null,
      "outputs": []
    },
    {
      "cell_type": "markdown",
      "metadata": {
        "deletable": false,
        "editable": false,
        "nbgrader": {
          "cell_type": "markdown",
          "checksum": "f3417f8bb5597bbb3fd7605c60f8bcdb",
          "grade": false,
          "grade_id": "cell-bb50a747c535f555",
          "locked": true,
          "schema_version": 3,
          "solution": false,
          "task": false
        },
        "id": "G20dV46tQwje"
      },
      "source": [
        "The following cell runs additional checks to your code. Please **don't write any code here**. Just leave it as it is."
      ]
    },
    {
      "cell_type": "code",
      "metadata": {
        "deletable": false,
        "editable": false,
        "nbgrader": {
          "cell_type": "code",
          "checksum": "b234cf2e1dc71fc1e0273d1bad7157af",
          "grade": true,
          "grade_id": "cell-f153c404e92c8d71",
          "locked": true,
          "points": 1,
          "schema_version": 3,
          "solution": false,
          "task": false
        },
        "id": "3qQ5hI1_Qwje"
      },
      "source": [
        "# LEAVE BLANK"
      ],
      "execution_count": null,
      "outputs": []
    },
    {
      "cell_type": "markdown",
      "metadata": {
        "id": "sCIXaXzCQwje"
      },
      "source": [
        "Final thing left to do it to come up with a way to extract the data from all the different pages. At the end of each page, there is a link that allows you to access the next page.\n",
        "\n",
        "<div class=\"alert alert-info\"><b>Exercise 11 </b>Write the code to complete function <i>find_next_page</i>.This function should take a soup object containing the code for an individual page as input and return the <b> complete url</b> for the next page. If there are no more pages left, it should return a <i>None</i> in boolean form. The base_url has already been defined for you.</div>"
      ]
    },
    {
      "cell_type": "code",
      "metadata": {
        "deletable": false,
        "nbgrader": {
          "cell_type": "code",
          "checksum": "d2e69bf64458f138fdc5e5b523014d8c",
          "grade": false,
          "grade_id": "cell-e11f54f74c6da362",
          "locked": false,
          "schema_version": 3,
          "solution": true,
          "task": false
        },
        "id": "W1qzS6yNQwje"
      },
      "source": [
        "base_url = \"https://airbnb.com\"\n",
        "\n",
        "def find_next_page(page):\n",
        "  \n",
        "  if page.find('a',{'class':'_za9j7e'})['href'] is None:\n",
        "    return bool(None)\n",
        "  else:\n",
        "    return base_url + page.find('a',{'class':'_za9j7e'})['href']\n",
        "    # YOUR CODE HERE"
      ],
      "execution_count": null,
      "outputs": []
    },
    {
      "cell_type": "markdown",
      "metadata": {
        "deletable": false,
        "editable": false,
        "nbgrader": {
          "cell_type": "markdown",
          "checksum": "5998392469b5c111a4f77adc3705f52c",
          "grade": false,
          "grade_id": "cell-bb50a747c535f55",
          "locked": true,
          "schema_version": 3,
          "solution": false,
          "task": false
        },
        "id": "jAyNhxxkQwje"
      },
      "source": [
        "The following cell runs additional checks to your code. Please **don't write any code here**. Just leave it as it is."
      ]
    },
    {
      "cell_type": "code",
      "metadata": {
        "deletable": false,
        "editable": false,
        "nbgrader": {
          "cell_type": "code",
          "checksum": "d808e335c7c1f93ade5a8955a561aa23",
          "grade": true,
          "grade_id": "cell-f153c04e92c8d71",
          "locked": true,
          "points": 1,
          "schema_version": 3,
          "solution": false,
          "task": false
        },
        "id": "ca86R0XtQwje"
      },
      "source": [
        "# LEAVE BLANK"
      ],
      "execution_count": null,
      "outputs": []
    },
    {
      "cell_type": "markdown",
      "metadata": {
        "deletable": false,
        "editable": false,
        "nbgrader": {
          "cell_type": "markdown",
          "checksum": "479a43b4a2f2303855b9e668d96888f2",
          "grade": false,
          "grade_id": "cell-144040afde561d2e",
          "locked": true,
          "schema_version": 3,
          "solution": false,
          "task": false
        },
        "id": "F4D4JgKeQwje"
      },
      "source": [
        "# Great! You now have all the functions you need to retrieve the data for the different listings, for all the different pages. Let's do just that.\n",
        "\n",
        "<div class=\"alert alert-info\"><b>Exercise 12 </b>Write the code to retrieve the data above for all the listings in all the different pages. Store this information in lists called <i>title</i>, <i>subtitle</i>, <i>info</i>, <i>ammenities</i>, <i>rating</i>, <i>reviews</i>, <i>price_per_night</i> and <i>total_price</i>. The lists have already been initialized for you.</div>\n",
        "\n",
        "<div class=\"alert alert-warning\">Take a moment to think how you can reuse all the code you already wrote to solve this exercise. You can of course come up with other ways to do it, but my advice is that you make sure you use all the functions above.</div>"
      ]
    },
    {
      "cell_type": "code",
      "metadata": {
        "deletable": false,
        "nbgrader": {
          "cell_type": "code",
          "checksum": "13b56f3092290fe9fcbda1837b4624e0",
          "grade": false,
          "grade_id": "cell-969852fa789f540a",
          "locked": false,
          "schema_version": 3,
          "solution": true,
          "task": false
        },
        "id": "pDG8fcxKQwje"
      },
      "source": [
        "title = []\n",
        "subtitle = []\n",
        "info = []\n",
        "ammenities = []\n",
        "rating = []\n",
        "reviews = []\n",
        "price_per_night = []\n",
        "total_price = []\n",
        "\n",
        "page = get_page(url)\n",
        "\n",
        "n_pages = int(page.find_all('a',{'class':'_1y623pm'})[-1].text)\n",
        "\n",
        "while type(page) == bs4.BeautifulSoup:\n",
        "\n",
        "  listings = get_listings(page)\n",
        "\n",
        "  for listing in listings:\n",
        "    title.append(get_listing_title(listing))\n",
        "    subtitle.append(get_listing_subtitle(listing))\n",
        "    info.append(get_listing_info(listing))\n",
        "    ammenities.append(get_listing_ammenities(listing))\n",
        "    rating.append(get_listing_rating(listing))\n",
        "    reviews.append(get_listing_reviews(listing))\n",
        "    price_per_night.append(get_listing_price_per_night(listing))\n",
        "    total_price.append(get_listing_total_price(listing))\n",
        "\n",
        "  try:\n",
        "    page = get_page(find_next_page(page))\n",
        "  except:\n",
        "    break\n",
        "\n",
        "\n",
        "# YOUR CODE HERE"
      ],
      "execution_count": null,
      "outputs": []
    },
    {
      "cell_type": "markdown",
      "metadata": {
        "deletable": false,
        "editable": false,
        "nbgrader": {
          "cell_type": "markdown",
          "checksum": "fdf6fedaee47c38aabb4aa2da4dc51c4",
          "grade": false,
          "grade_id": "cell-b50a747c535f555",
          "locked": true,
          "schema_version": 3,
          "solution": false,
          "task": false
        },
        "id": "1Zyem0mGQwje"
      },
      "source": [
        "The following cells runs additional checks to your code. Please **don't write any code here**. Just leave them as they are."
      ]
    },
    {
      "cell_type": "code",
      "metadata": {
        "deletable": false,
        "editable": false,
        "nbgrader": {
          "cell_type": "code",
          "checksum": "dfd417f96fd233980e11c4fd116709d3",
          "grade": true,
          "grade_id": "cell-f153c404e92c8d7",
          "locked": true,
          "points": 0.25,
          "schema_version": 3,
          "solution": false,
          "task": false
        },
        "id": "ehtmw4yVQwje"
      },
      "source": [
        "# LEAVE BLANK"
      ],
      "execution_count": null,
      "outputs": []
    },
    {
      "cell_type": "code",
      "metadata": {
        "deletable": false,
        "editable": false,
        "nbgrader": {
          "cell_type": "code",
          "checksum": "951a49f3665e9ae8068a589e7f84485a",
          "grade": true,
          "grade_id": "cell-5d222735dffed626",
          "locked": true,
          "points": 0.25,
          "schema_version": 3,
          "solution": false,
          "task": false
        },
        "id": "4gIyF09SQwje"
      },
      "source": [
        "# LEAVE BLANK"
      ],
      "execution_count": null,
      "outputs": []
    },
    {
      "cell_type": "code",
      "metadata": {
        "deletable": false,
        "editable": false,
        "nbgrader": {
          "cell_type": "code",
          "checksum": "5bee111880e5bf85df79b3c4d1c088a2",
          "grade": true,
          "grade_id": "cell-88bc54655780d5d7",
          "locked": true,
          "points": 0.25,
          "schema_version": 3,
          "solution": false,
          "task": false
        },
        "id": "a4kHyL0aQwje"
      },
      "source": [
        "# LEAVE BLANK"
      ],
      "execution_count": null,
      "outputs": []
    },
    {
      "cell_type": "code",
      "metadata": {
        "deletable": false,
        "editable": false,
        "nbgrader": {
          "cell_type": "code",
          "checksum": "244e920be9e2a96639263274965d1cc7",
          "grade": true,
          "grade_id": "cell-a6d3f3343c9ca47a",
          "locked": true,
          "points": 0.25,
          "schema_version": 3,
          "solution": false,
          "task": false
        },
        "id": "oETd0WdGQwje"
      },
      "source": [
        "# LEAVE BLANK"
      ],
      "execution_count": null,
      "outputs": []
    },
    {
      "cell_type": "code",
      "metadata": {
        "deletable": false,
        "editable": false,
        "nbgrader": {
          "cell_type": "code",
          "checksum": "8cc7bc91cf22081657a824ffdff1ee09",
          "grade": true,
          "grade_id": "cell-3690284dc03e708a",
          "locked": true,
          "points": 0.25,
          "schema_version": 3,
          "solution": false,
          "task": false
        },
        "id": "6w1REj2ZQwje"
      },
      "source": [
        "# LEAVE BLANK"
      ],
      "execution_count": null,
      "outputs": []
    },
    {
      "cell_type": "code",
      "metadata": {
        "deletable": false,
        "editable": false,
        "nbgrader": {
          "cell_type": "code",
          "checksum": "239f1cf35b33e3e4b59a74c126460e9c",
          "grade": true,
          "grade_id": "cell-a7424957a3a0118b",
          "locked": true,
          "points": 0.25,
          "schema_version": 3,
          "solution": false,
          "task": false
        },
        "id": "_fAjVHM7Qwje"
      },
      "source": [
        "# LEAVE BLANK"
      ],
      "execution_count": null,
      "outputs": []
    },
    {
      "cell_type": "code",
      "metadata": {
        "deletable": false,
        "editable": false,
        "nbgrader": {
          "cell_type": "code",
          "checksum": "e35d2d70be89a5af9284c4576dccfa26",
          "grade": true,
          "grade_id": "cell-08a4988a5f788bac",
          "locked": true,
          "points": 0.25,
          "schema_version": 3,
          "solution": false,
          "task": false
        },
        "id": "dXx29a2xQwje"
      },
      "source": [
        "# LEAVE BLANK"
      ],
      "execution_count": null,
      "outputs": []
    },
    {
      "cell_type": "code",
      "metadata": {
        "deletable": false,
        "editable": false,
        "nbgrader": {
          "cell_type": "code",
          "checksum": "8770e764583432cd63357044fdcd29df",
          "grade": true,
          "grade_id": "cell-33241aeb0436d574",
          "locked": true,
          "points": 0.25,
          "schema_version": 3,
          "solution": false,
          "task": false
        },
        "id": "hQSa8UwiQwje"
      },
      "source": [
        "# LEAVE BLANK"
      ],
      "execution_count": null,
      "outputs": []
    },
    {
      "cell_type": "markdown",
      "metadata": {
        "deletable": false,
        "editable": false,
        "nbgrader": {
          "cell_type": "markdown",
          "checksum": "9b59463f737ee9e2d89a9f572ad208be",
          "grade": false,
          "grade_id": "cell-9eee4fdb9eaf4783",
          "locked": true,
          "schema_version": 3,
          "solution": false,
          "task": false
        },
        "id": "lESlHFbiQwje"
      },
      "source": [
        "## Saving the data\n",
        "\n",
        "Now that you retrieved all the data the only thing left for you to do is store them in a DataFrame.\n",
        "\n",
        "<div class=\"alert alert-info\"><b>Exercise 13 </b>Write the code to save these data to a DataFrame object called <i>airbnb</i>. The names of the different columns should be equal to those of the lists you just created: <i>title</i>, <i>subtitle</i>, <i>info</i>, <i>ammenities</i>, <i>rating</i>, <i>reviews</i>, <i>price_per_night</i> and <i>total_price</i>. Don't define any index when defining your DataFrame.</div>"
      ]
    },
    {
      "cell_type": "code",
      "metadata": {
        "deletable": false,
        "nbgrader": {
          "cell_type": "code",
          "checksum": "d689952999f4d2d18bb1b197782fcb2c",
          "grade": false,
          "grade_id": "cell-3bc00597312c36fe",
          "locked": false,
          "schema_version": 3,
          "solution": true,
          "task": false
        },
        "id": "UBtdV1vUQwje"
      },
      "source": [
        "# YOUR CODE HERE\n",
        "import pandas as pd\n",
        "\n",
        "airbnb = pd.DataFrame(data = {'title':title,\n",
        "                              'subtitle':subtitle,\n",
        "                              'info':info,\n",
        "                              'ammenities':ammenities,\n",
        "                              'rating':rating,\n",
        "                              'reviews':reviews,\n",
        "                              'price_per_night':price_per_night,\n",
        "                              'total_price': total_price\n",
        "                              })"
      ],
      "execution_count": null,
      "outputs": []
    },
    {
      "cell_type": "code",
      "metadata": {
        "colab": {
          "base_uri": "https://localhost:8080/",
          "height": 570
        },
        "id": "KYITEfb0FDo8",
        "outputId": "485d99ea-4597-4de1-e49a-d17fcb21b159"
      },
      "source": [
        "airbnb"
      ],
      "execution_count": null,
      "outputs": [
        {
          "output_type": "execute_result",
          "data": {
            "text/html": [
              "<div>\n",
              "<style scoped>\n",
              "    .dataframe tbody tr th:only-of-type {\n",
              "        vertical-align: middle;\n",
              "    }\n",
              "\n",
              "    .dataframe tbody tr th {\n",
              "        vertical-align: top;\n",
              "    }\n",
              "\n",
              "    .dataframe thead th {\n",
              "        text-align: right;\n",
              "    }\n",
              "</style>\n",
              "<table border=\"1\" class=\"dataframe\">\n",
              "  <thead>\n",
              "    <tr style=\"text-align: right;\">\n",
              "      <th></th>\n",
              "      <th>title</th>\n",
              "      <th>subtitle</th>\n",
              "      <th>info</th>\n",
              "      <th>ammenities</th>\n",
              "      <th>rating</th>\n",
              "      <th>reviews</th>\n",
              "      <th>price_per_night</th>\n",
              "      <th>total_price</th>\n",
              "    </tr>\n",
              "  </thead>\n",
              "  <tbody>\n",
              "    <tr>\n",
              "      <th>0</th>\n",
              "      <td>gmb beachhouse bingin beachfront amazing villa</td>\n",
              "      <td>Island in Kabupaten Badung</td>\n",
              "      <td>4 guests · 3 bedrooms · 4 beds · 1 bath</td>\n",
              "      <td>Wifi · Air conditioning · Kitchen</td>\n",
              "      <td>4.77</td>\n",
              "      <td>82</td>\n",
              "      <td>207</td>\n",
              "      <td>1,084</td>\n",
              "    </tr>\n",
              "    <tr>\n",
              "      <th>1</th>\n",
              "      <td>Beautiful villa on the edge of BLUE LAGOON</td>\n",
              "      <td>Entire villa in Nusa Ceningan</td>\n",
              "      <td>2 guests · 1 bedroom · 1 bed · 1 bath</td>\n",
              "      <td>Pool · Wifi · Air conditioning</td>\n",
              "      <td>4.82</td>\n",
              "      <td>310</td>\n",
              "      <td>80</td>\n",
              "      <td>400</td>\n",
              "    </tr>\n",
              "    <tr>\n",
              "      <th>2</th>\n",
              "      <td>Villa Murai Sumberkima Hill</td>\n",
              "      <td>Entire villa in Pemuteran</td>\n",
              "      <td>2 guests · 1 bedroom · 1 bed · 1 bath</td>\n",
              "      <td>Pool · Wifi · Air conditioning · Kitchen</td>\n",
              "      <td>4.85</td>\n",
              "      <td>20</td>\n",
              "      <td>161</td>\n",
              "      <td>803</td>\n",
              "    </tr>\n",
              "    <tr>\n",
              "      <th>3</th>\n",
              "      <td>LOWER PRICE - Special Offer For Monthly Rental !</td>\n",
              "      <td>Entire villa in Ketewel</td>\n",
              "      <td>8 guests · 4 bedrooms · 5 beds · 4.5 baths</td>\n",
              "      <td>Pool · Wifi · Air conditioning · Kitchen</td>\n",
              "      <td>False</td>\n",
              "      <td>False</td>\n",
              "      <td>404</td>\n",
              "      <td>2,020</td>\n",
              "    </tr>\n",
              "    <tr>\n",
              "      <th>4</th>\n",
              "      <td>2BR &amp; Private Pool luxury villa Seminyak</td>\n",
              "      <td>Entire villa in Kuta Utara</td>\n",
              "      <td>4 guests · 2 bedrooms · 2 beds · 2 baths</td>\n",
              "      <td>Pool · Wifi · Air conditioning · Kitchen</td>\n",
              "      <td>4.58</td>\n",
              "      <td>39</td>\n",
              "      <td>88</td>\n",
              "      <td>442</td>\n",
              "    </tr>\n",
              "    <tr>\n",
              "      <th>...</th>\n",
              "      <td>...</td>\n",
              "      <td>...</td>\n",
              "      <td>...</td>\n",
              "      <td>...</td>\n",
              "      <td>...</td>\n",
              "      <td>...</td>\n",
              "      <td>...</td>\n",
              "      <td>...</td>\n",
              "    </tr>\n",
              "    <tr>\n",
              "      <th>295</th>\n",
              "      <td>Little Aman  - Private Oceanview - Nusa Lembongan</td>\n",
              "      <td>Entire apartment in Nusapenida</td>\n",
              "      <td>2 guests · 1 bedroom · 1 bed · 1.5 baths</td>\n",
              "      <td>Wifi · Air conditioning · Kitchen</td>\n",
              "      <td>4.76</td>\n",
              "      <td>59</td>\n",
              "      <td>53</td>\n",
              "      <td>305</td>\n",
              "    </tr>\n",
              "    <tr>\n",
              "      <th>296</th>\n",
              "      <td>Beachfront Room ✦Resort The Village of Angels✦...</td>\n",
              "      <td>Resort room in Kecamatan Manggis</td>\n",
              "      <td>2 guests · 1 bedroom · 1 bed · 1 private bath</td>\n",
              "      <td>Pool · Wifi · Air conditioning</td>\n",
              "      <td>False</td>\n",
              "      <td>False</td>\n",
              "      <td>2,074</td>\n",
              "      <td>10,370</td>\n",
              "    </tr>\n",
              "    <tr>\n",
              "      <th>297</th>\n",
              "      <td>nice place to stay</td>\n",
              "      <td>Room in aparthotel in Kecamatan Ubud</td>\n",
              "      <td>2 guests · 1 bedroom · 0 beds · 1.5 shared baths</td>\n",
              "      <td>Pool · Wifi · Air conditioning</td>\n",
              "      <td>False</td>\n",
              "      <td>False</td>\n",
              "      <td>12</td>\n",
              "      <td>68</td>\n",
              "    </tr>\n",
              "    <tr>\n",
              "      <th>298</th>\n",
              "      <td>the private home 2 bed room,2 bathroom and kit...</td>\n",
              "      <td>Private room in Kecamatan Kuta Selatan</td>\n",
              "      <td>4 guests · 2 bedrooms · 2 beds · 2 baths</td>\n",
              "      <td>Wifi · Air conditioning · Kitchen</td>\n",
              "      <td>4.58</td>\n",
              "      <td>12</td>\n",
              "      <td>16</td>\n",
              "      <td>91</td>\n",
              "    </tr>\n",
              "    <tr>\n",
              "      <th>299</th>\n",
              "      <td>Apartments by the ocean ✦Resort The Village of...</td>\n",
              "      <td>Resort room in Kecamatan Manggis</td>\n",
              "      <td>2 guests · 1 bedroom · 1 bed · 1 private bath</td>\n",
              "      <td>Pool · Wifi · Air conditioning</td>\n",
              "      <td>False</td>\n",
              "      <td>False</td>\n",
              "      <td>2,074</td>\n",
              "      <td>10,370</td>\n",
              "    </tr>\n",
              "  </tbody>\n",
              "</table>\n",
              "<p>300 rows × 8 columns</p>\n",
              "</div>"
            ],
            "text/plain": [
              "                                                 title  ... total_price\n",
              "0       gmb beachhouse bingin beachfront amazing villa  ...       1,084\n",
              "1           Beautiful villa on the edge of BLUE LAGOON  ...         400\n",
              "2                          Villa Murai Sumberkima Hill  ...         803\n",
              "3     LOWER PRICE - Special Offer For Monthly Rental !  ...       2,020\n",
              "4             2BR & Private Pool luxury villa Seminyak  ...         442\n",
              "..                                                 ...  ...         ...\n",
              "295  Little Aman  - Private Oceanview - Nusa Lembongan  ...         305\n",
              "296  Beachfront Room ✦Resort The Village of Angels✦...  ...      10,370\n",
              "297                                 nice place to stay  ...          68\n",
              "298  the private home 2 bed room,2 bathroom and kit...  ...          91\n",
              "299  Apartments by the ocean ✦Resort The Village of...  ...      10,370\n",
              "\n",
              "[300 rows x 8 columns]"
            ]
          },
          "metadata": {
            "tags": []
          },
          "execution_count": 84
        }
      ]
    },
    {
      "cell_type": "markdown",
      "metadata": {
        "deletable": false,
        "editable": false,
        "nbgrader": {
          "cell_type": "markdown",
          "checksum": "b4cf6d314a2d48e149dda435086a61de",
          "grade": false,
          "grade_id": "cell-bb0d90ad4cc09c7b",
          "locked": true,
          "schema_version": 3,
          "solution": false,
          "task": false
        },
        "id": "SId2BUSQQwje"
      },
      "source": [
        "The following cell runs additional checks to your code. Please **don't write any code here**. Just leave it as it is."
      ]
    },
    {
      "cell_type": "code",
      "metadata": {
        "deletable": false,
        "editable": false,
        "nbgrader": {
          "cell_type": "code",
          "checksum": "571e447ddefec9a01f74fefecb0e13cb",
          "grade": true,
          "grade_id": "cell-b44d817505370766",
          "locked": true,
          "points": 0.25,
          "schema_version": 3,
          "solution": false,
          "task": false
        },
        "id": "QXkxVzkSQwje"
      },
      "source": [
        "# LEAVE BLANK"
      ],
      "execution_count": null,
      "outputs": []
    },
    {
      "cell_type": "markdown",
      "metadata": {
        "deletable": false,
        "editable": false,
        "nbgrader": {
          "cell_type": "markdown",
          "checksum": "a41dedfb442d78e870011db58bad2e66",
          "grade": false,
          "grade_id": "cell-e7c17d5e8ca769f8",
          "locked": true,
          "schema_version": 3,
          "solution": false,
          "task": false
        },
        "id": "Mhs5fl9rQwje"
      },
      "source": [
        "Finally, save your DataFrame to a csv file by runnign the following cell."
      ]
    },
    {
      "cell_type": "code",
      "metadata": {
        "id": "qbBQqO3lQwje"
      },
      "source": [
        "airbnb.to_csv(\"airbnb.csv\", index=False)"
      ],
      "execution_count": null,
      "outputs": []
    },
    {
      "cell_type": "markdown",
      "metadata": {
        "deletable": false,
        "editable": false,
        "nbgrader": {
          "cell_type": "markdown",
          "checksum": "b5b54148763f063ea624a940269f9e40",
          "grade": false,
          "grade_id": "cell-e05f29a6fa8644c8",
          "locked": true,
          "schema_version": 3,
          "solution": false,
          "task": false
        },
        "id": "QbVDtaZDQwje"
      },
      "source": [
        "## Bonus exercises\n",
        "\n",
        "In order to get bonus points, you'll need to redefine the way in which both the info and the ammenities data are stored. For each of this items, you retrieved the whole string containing information about different elements. Let's extract the separate information for each of these elements.\n",
        "\n",
        "<div class=\"alert alert-danger\"><b>Bonus 1 </b>Write the code to retrieve the individual data from the <i>info</i> list. This list should contain information about the number of guests, the number of bedrooms, the number of beds and the number of baths. Store the information for the number of guests, bedrooms and bathrooms in separate lists called <i>guests</i>, <i>bedrooms</i> and <i>baths</i>. The number of guests an dbedrooms should be store in <b>int</b> form, while the number of baths should be a <b>float</b>. The lists have already been initialized for you. If no value is given for any of the items, use a <i>None</i> in boolean form.</div>\n",
        "\n",
        "<div class=\"alert alert-warning\">Say the first element of you <i>info</i> list contains the string \"3 guests · 1 private bedroom · 2 beds · 1 shared bath\", then the first element of your <i>guests</i> list should be equal to 3, the first element of your <i>bedrooms</i> list should be equal to 1 and the first element of your <i>baths</i> list should be equal to 1. Equivalently, if the first element of you <i>info</i> list contains the string \"4 guests · Studio · 2 beds · 1 private bath\", then the first element of your <i>guests</i> list should be equal to 4, the first element of your <i>bedrooms</i> list should be equal to None and the first element of your <i>baths</i> list should be equal to 1.</div>\n",
        "\n",
        "<div class=\"alert alert-warning\">You'll find that, for some reason, certain listings have a very misterious thing called <i>Half-bath</i>. You can either encode those cases using a 0.5 in <b>float</b> form or a <i>None</i> in <b>boolean</b> form.</div>"
      ]
    },
    {
      "cell_type": "code",
      "metadata": {
        "deletable": false,
        "nbgrader": {
          "cell_type": "code",
          "checksum": "83f782b9df3ad23a6597fea7a807ed88",
          "grade": false,
          "grade_id": "cell-b948cd709ca248eb",
          "locked": false,
          "schema_version": 3,
          "solution": true,
          "task": false
        },
        "id": "TVhqYgxKQwje"
      },
      "source": [
        "guests = []       #int\n",
        "bedrooms = []     #int \n",
        "baths = []        #float\n",
        "\n",
        "for inf in info:\n",
        "  try:\n",
        "    guests.append(int(inf[:inf.index('guest')]))\n",
        "  except:\n",
        "    guests.append(bool(None))\n",
        "\n",
        "  try:\n",
        "    bedrooms.append(int(inf[inf.index('bedroom')-2:inf.index('bedroom')]))\n",
        "  except:\n",
        "    bedrooms.append(bool(None))\n",
        "\n",
        "  try:\n",
        "    inf.index('Half-bath')\n",
        "    baths.append(float(0.5))\n",
        "  except:\n",
        "    try:\n",
        "      inf.index('private')\n",
        "      baths.append(float(inf[inf.rfind('·')+1:inf.index('private')]))\n",
        "    except:\n",
        "      try:\n",
        "        inf.index('shared')\n",
        "        baths.append(float(inf[inf.rfind('·')+1:inf.index('shared')]))\n",
        "      except:\n",
        "        try:\n",
        "          inf.index('bath')\n",
        "          baths.append(float(inf[inf.rfind('·')+1:inf.index('bath')]))\n",
        "        except:\n",
        "          baths.append(bool(None))"
      ],
      "execution_count": null,
      "outputs": []
    },
    {
      "cell_type": "code",
      "metadata": {
        "colab": {
          "base_uri": "https://localhost:8080/"
        },
        "id": "DbwScmvAV8Ab",
        "outputId": "9a571b86-af0a-4690-b928-841e6e0ec8ff"
      },
      "source": [
        "type(airbnb['bedrooms'][0])"
      ],
      "execution_count": null,
      "outputs": [
        {
          "output_type": "execute_result",
          "data": {
            "text/plain": [
              "int"
            ]
          },
          "metadata": {
            "tags": []
          },
          "execution_count": 100
        }
      ]
    },
    {
      "cell_type": "markdown",
      "metadata": {
        "deletable": false,
        "editable": false,
        "nbgrader": {
          "cell_type": "markdown",
          "checksum": "a6224fbdc7de12b5295c60f7fd209e82",
          "grade": false,
          "grade_id": "cell-dadae4f660e52336",
          "locked": true,
          "schema_version": 3,
          "solution": false,
          "task": false
        },
        "id": "xpkMMW6UQwje"
      },
      "source": [
        "The following cells runs additional checks to your code. Please **don't write any code here**. Just leave them as they are."
      ]
    },
    {
      "cell_type": "code",
      "metadata": {
        "deletable": false,
        "editable": false,
        "nbgrader": {
          "cell_type": "code",
          "checksum": "57fb426e226c2e7408307a3d8b304284",
          "grade": true,
          "grade_id": "cell-7b39501ec328ded0",
          "locked": true,
          "points": 0.5,
          "schema_version": 3,
          "solution": false,
          "task": false
        },
        "id": "fAhj8dsbQwje"
      },
      "source": [
        "# LEAVE BLANK"
      ],
      "execution_count": null,
      "outputs": []
    },
    {
      "cell_type": "code",
      "metadata": {
        "deletable": false,
        "editable": false,
        "nbgrader": {
          "cell_type": "code",
          "checksum": "2a5083201ad12a336662bda8b0cf05f6",
          "grade": true,
          "grade_id": "cell-55efb8dca0f025c0",
          "locked": true,
          "points": 0.5,
          "schema_version": 3,
          "solution": false,
          "task": false
        },
        "id": "L9GIBRASQwje"
      },
      "source": [
        "# LEAVE BLANK"
      ],
      "execution_count": null,
      "outputs": []
    },
    {
      "cell_type": "code",
      "metadata": {
        "deletable": false,
        "editable": false,
        "nbgrader": {
          "cell_type": "code",
          "checksum": "8d38000fa4bf85abe5b2c07d1768a380",
          "grade": true,
          "grade_id": "cell-877afdfadb9ec778",
          "locked": true,
          "points": 0.5,
          "schema_version": 3,
          "solution": false,
          "task": false
        },
        "id": "1JXRSM3UQwje"
      },
      "source": [
        "# LEAVE BLANK"
      ],
      "execution_count": null,
      "outputs": []
    },
    {
      "cell_type": "markdown",
      "metadata": {
        "deletable": false,
        "editable": false,
        "nbgrader": {
          "cell_type": "markdown",
          "checksum": "d9ecf8568be191fd4815c516f449de36",
          "grade": false,
          "grade_id": "cell-ef85e8a13c8738d9",
          "locked": true,
          "schema_version": 3,
          "solution": false,
          "task": false
        },
        "id": "509rP6DSQwje"
      },
      "source": [
        "Appart from the general information, when searching for the best choice, there might be some specific things we are looking for. I don't know about you, but I would definitely look for a place with a pool, a kitchen, wifi and definitely some air conditioning.\n",
        "\n",
        "<div class=\"alert alert-danger\"><b>Bonus 2 </b>Write the code to retrieve these data from the <i>ammenities</i> list. Remember that this list contains information about the different services that are offered in str form. For each of the 4 ammenities above (wiki, kitchen, air conditioning and pool) create a new list that stores a 1 in <b>int</b> form if the ammenity is present and a 0 in <b>int</b> form otherwise. Store these values in separate lists called <i>wifi</i>, <i>kitchen</i>, <i>air_conditioning</i> and <i>pool</i>. The lists have already been initialized for you. If the values in your <i>ammenities</i> is missing, use a <i>None</i> in boolean form for every individual ammenity.</div>\n",
        "\n",
        "<div class=\"alert alert-warning\">Say the first element of your <i>ammenities</i> list contains the string \"wifi · heating\", then the first element of your <i>wifi</i> list should be equal to 1, the first element of your <i>kitchen</i> list should be equal to 0,  the first element of your <i>air_conditioning</i> list should be equal to 0 and the first element of your <i>pool</i> list should be equal to 1.</div>"
      ]
    },
    {
      "cell_type": "code",
      "metadata": {
        "deletable": false,
        "nbgrader": {
          "cell_type": "code",
          "checksum": "a1b4f8b4cee23843e3cf16c656c2ddae",
          "grade": false,
          "grade_id": "cell-e8e2ab1d726d3920",
          "locked": false,
          "schema_version": 3,
          "solution": true,
          "task": false
        },
        "id": "ed5dO1RNQwje"
      },
      "source": [
        "wifi = []\n",
        "kitchen = []\n",
        "air_conditioning = []\n",
        "pool = []\n",
        "\n",
        "for am in ammenities:\n",
        "  try:\n",
        "    am.index('Wifi')\n",
        "    wifi.append(1)\n",
        "  except:\n",
        "    wifi.append(0)\n",
        "  \n",
        "  try:\n",
        "    am.index('Kitchen')\n",
        "    kitchen.append(1)\n",
        "  except:\n",
        "    kitchen.append(0)\n",
        "  \n",
        "  try:\n",
        "    am.index('Air conditioning')\n",
        "    air_conditioning.append(1)\n",
        "  except:\n",
        "    air_conditioning.append(0)\n",
        "\n",
        "  try:\n",
        "    am.index('Pool')\n",
        "    pool.append(1)\n",
        "  except:\n",
        "    pool.append(0)\n",
        "  \n",
        "# YOUR CODE HERE"
      ],
      "execution_count": null,
      "outputs": []
    },
    {
      "cell_type": "markdown",
      "metadata": {
        "deletable": false,
        "editable": false,
        "nbgrader": {
          "cell_type": "markdown",
          "checksum": "6ec07918a12d9e87a5fdcbda75b59c24",
          "grade": false,
          "grade_id": "cell-dadae4f660e52f6",
          "locked": true,
          "schema_version": 3,
          "solution": false,
          "task": false
        },
        "id": "5a-4WapeQwje"
      },
      "source": [
        "The following cells runs additional checks to your code. Please **don't write any code here**. Just leave them as they are."
      ]
    },
    {
      "cell_type": "code",
      "metadata": {
        "deletable": false,
        "editable": false,
        "nbgrader": {
          "cell_type": "code",
          "checksum": "c6450e6d8cbf92fcc199b2e269c8a4b7",
          "grade": true,
          "grade_id": "cell-7b39501effc328ded0",
          "locked": true,
          "points": 0.75,
          "schema_version": 3,
          "solution": false,
          "task": false
        },
        "id": "rMbUrGq1Qwje"
      },
      "source": [
        "# LEAVE BLANK"
      ],
      "execution_count": null,
      "outputs": []
    },
    {
      "cell_type": "code",
      "metadata": {
        "deletable": false,
        "editable": false,
        "nbgrader": {
          "cell_type": "code",
          "checksum": "c9938ab23b5cc069b6f68176736c87e2",
          "grade": true,
          "grade_id": "cell-d33dc2fa442946572",
          "locked": true,
          "points": 0.75,
          "schema_version": 3,
          "solution": false,
          "task": false
        },
        "id": "3DCH0V0aQwje"
      },
      "source": [
        "# LEAVE BLANK"
      ],
      "execution_count": null,
      "outputs": []
    },
    {
      "cell_type": "code",
      "metadata": {
        "deletable": false,
        "editable": false,
        "nbgrader": {
          "cell_type": "code",
          "checksum": "52190de9c361562345e44eea0bdf6769",
          "grade": true,
          "grade_id": "cell-9829fr4d01b60ce2c7",
          "locked": true,
          "points": 0.75,
          "schema_version": 3,
          "solution": false,
          "task": false
        },
        "id": "vR57vqNtQwje"
      },
      "source": [
        "# LEAVE BLANK"
      ],
      "execution_count": null,
      "outputs": []
    },
    {
      "cell_type": "code",
      "metadata": {
        "deletable": false,
        "editable": false,
        "nbgrader": {
          "cell_type": "code",
          "checksum": "4dc8b31c6ca99f08d653f0f17e53bf7e",
          "grade": true,
          "grade_id": "cell-415609b6daa77e",
          "locked": true,
          "points": 0.75,
          "schema_version": 3,
          "solution": false,
          "task": false
        },
        "id": "p9aH42_sQwje"
      },
      "source": [
        "# LEAVE BLANK"
      ],
      "execution_count": null,
      "outputs": []
    },
    {
      "cell_type": "markdown",
      "metadata": {
        "deletable": false,
        "editable": false,
        "nbgrader": {
          "cell_type": "markdown",
          "checksum": "b738787684b934ae1a2d0e4679e2c9f8",
          "grade": false,
          "grade_id": "cell-9eee4db9eaf4783",
          "locked": true,
          "schema_version": 3,
          "solution": false,
          "task": false
        },
        "id": "tNYnew60Qwje"
      },
      "source": [
        "<div class=\"alert alert-danger\"><b>Bonus 3 </b>Write the code to save these data to a DataFrame object called <i>airbnb</i>. This time, instead of including the columns <i>info</i> and <i>ammenities</i>, include the lists you created above. The names of the different columns should be equal to those of the lists you just created: <i>title</i>, <i>subtitle</i>, <i>rating</i>, <i>reviews</i>, <i>price_per_night</i>, <i>total_price</i>, <i>guests</i>, <i>bedrooms</i>, <i>baths</i>, <i>wifi</i>, <i>kitchen</i>, <i>air_conditioning</i> and <i>pool</i>. Don't define any index when defining your DataFrame.</div>"
      ]
    },
    {
      "cell_type": "code",
      "metadata": {
        "deletable": false,
        "nbgrader": {
          "cell_type": "code",
          "checksum": "b9aefc1ff39dc0f103f8474eea1657fb",
          "grade": false,
          "grade_id": "cellc00597312c36fe",
          "locked": false,
          "schema_version": 3,
          "solution": true,
          "task": false
        },
        "id": "CDPqt46kQwje"
      },
      "source": [
        "# YOUR CODE HERE\n",
        "\n",
        "airbnb = pd.DataFrame(data = {'title':title,\n",
        "                              'subtitle':subtitle,\n",
        "                              'rating':rating,\n",
        "                              'reviews':reviews,\n",
        "                              'price_per_night':price_per_night,\n",
        "                              'total_price': total_price,\n",
        "                              'guests':guests,\n",
        "                              'bedrooms':bedrooms,\n",
        "                              'baths':baths,\n",
        "                              'wifi':wifi,\n",
        "                              'kitchen':kitchen,\n",
        "                              'air_conditioning':air_conditioning,\n",
        "                              'pool':pool\n",
        "                              })\n"
      ],
      "execution_count": null,
      "outputs": []
    },
    {
      "cell_type": "markdown",
      "metadata": {
        "deletable": false,
        "editable": false,
        "nbgrader": {
          "cell_type": "markdown",
          "checksum": "3ce46f085331898fa7a73bcfffbe12a6",
          "grade": false,
          "grade_id": "cl-bb0d90ad4cc09c7b",
          "locked": true,
          "schema_version": 3,
          "solution": false,
          "task": false
        },
        "id": "aF5AfVmMQwje"
      },
      "source": [
        "The following cell runs additional checks to your code. Please **don't write any code here**. Just leave it as it is."
      ]
    },
    {
      "cell_type": "code",
      "metadata": {
        "deletable": false,
        "editable": false,
        "nbgrader": {
          "cell_type": "code",
          "checksum": "411fd90f4da554c2243c6ca926993b20",
          "grade": true,
          "grade_id": "cell-d817505370766",
          "locked": true,
          "points": 0.25,
          "schema_version": 3,
          "solution": false,
          "task": false
        },
        "id": "d73eZWUjQwje"
      },
      "source": [
        "# LEAVE BLANK"
      ],
      "execution_count": null,
      "outputs": []
    },
    {
      "cell_type": "markdown",
      "metadata": {
        "deletable": false,
        "editable": false,
        "nbgrader": {
          "cell_type": "markdown",
          "checksum": "40a9e2a5d711afc40b5e61df89b82612",
          "grade": false,
          "grade_id": "cell-212db721f7961a48",
          "locked": true,
          "schema_version": 3,
          "solution": false,
          "task": false
        },
        "id": "4GnWm8r3Qwje"
      },
      "source": [
        "Once you are done update the file storign your previous data with the new information."
      ]
    },
    {
      "cell_type": "code",
      "metadata": {
        "id": "6Otg2dKgQwje"
      },
      "source": [
        "airbnb.to_csv(\"airbnb.csv\")"
      ],
      "execution_count": null,
      "outputs": []
    }
  ]
}